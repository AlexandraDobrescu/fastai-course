{
  "nbformat": 4,
  "nbformat_minor": 0,
  "metadata": {
    "colab": {
      "name": "Image_Classifier.ipynb",
      "provenance": [],
      "collapsed_sections": []
    },
    "kernelspec": {
      "name": "python3",
      "display_name": "Python 3"
    },
    "accelerator": "GPU"
  },
  "cells": [
    {
      "cell_type": "markdown",
      "metadata": {
        "id": "9rupuPBas8p8",
        "colab_type": "text"
      },
      "source": [
        "##Classifying mountains and icebergs##\n",
        "\n",
        "As part of Lesson 1 of fast.ai [course](https://course.fast.ai/index.html) *Practical Deep Learning for Coders v3*, I used resnet34 to classify mountains and icebergs.\n",
        "\n",
        "The main task was to create a customised dataset and train a classifier to distinguish between two objects. \n",
        "\n",
        "###Data preprocessing parts completed:###\n",
        "\n",
        "*   Create personal image dataset using [Google Images](https://www.google.com/imghp?hl=en),\n",
        "*   Install [Fatkun Batch](https://chrome.google.com/webstore/detail/fatkun-batch-download-ima/nnjjahlikiabnchcpehcpkdeckfgnohf) Download Image extension (Google Chrome browser),\n",
        "*   bash script to archive data,\n",
        "*   Store files on Google drive.\n"
      ]
    },
    {
      "cell_type": "code",
      "metadata": {
        "id": "F1ePiKpSzzoX",
        "colab_type": "code",
        "outputId": "8d879241-9534-45f8-f991-0a437524a913",
        "colab": {
          "base_uri": "https://localhost:8080/",
          "height": 35
        }
      },
      "source": [
        "from google.colab import drive\n",
        "drive.mount('/content/gdrive', force_remount=False)\n",
        "root_path = 'gdrive/My Drive/datasets/correct'"
      ],
      "execution_count": 1,
      "outputs": [
        {
          "output_type": "stream",
          "text": [
            "Drive already mounted at /content/gdrive; to attempt to forcibly remount, call drive.mount(\"/content/gdrive\", force_remount=True).\n"
          ],
          "name": "stdout"
        }
      ]
    },
    {
      "cell_type": "markdown",
      "metadata": {
        "id": "zkku1ufXD5gx",
        "colab_type": "text"
      },
      "source": [
        "The dataset can be untarred using the following couple bash commands.\n",
        "\n",
        "*Note:* The Google drive link shared is not downloaded by default."
      ]
    },
    {
      "cell_type": "code",
      "metadata": {
        "id": "IpznyqD71EvA",
        "colab_type": "code",
        "colab": {}
      },
      "source": [
        "%%bash\n",
        "fileid=\"1bxSQap6kq7YgVVYfsGHwPG7kfWrqWpb0\"\n",
        "filename=\"Mountains_Iceberg_dataset.tar.gz\"\n",
        "curl -c ./cookie -s -L \"https://drive.google.com/uc?export=download&id=${fileid}\" -s > /dev/null\n",
        "curl -Lb ./cookie \"https://drive.google.com/uc?export=download&confirm=`awk '/download/ {print $NF}' ./cookie`&id=${fileid}\" -s -o ${filename}\n",
        "tar --warning=no-unknown-keyword -xzf Mountains_Iceberg_dataset.tar.gz"
      ],
      "execution_count": 0,
      "outputs": []
    },
    {
      "cell_type": "markdown",
      "metadata": {
        "id": "KAuQkCS2G7Jy",
        "colab_type": "text"
      },
      "source": [
        "###Image recognition scripts used in the course notebooks.###"
      ]
    },
    {
      "cell_type": "code",
      "metadata": {
        "id": "fCYUwnt0225k",
        "colab_type": "code",
        "colab": {}
      },
      "source": [
        "from fastai.vision import *\n",
        "from fastai.metrics import error_rate"
      ],
      "execution_count": 0,
      "outputs": []
    },
    {
      "cell_type": "code",
      "metadata": {
        "id": "1uWgxVxO3M52",
        "colab_type": "code",
        "colab": {}
      },
      "source": [
        "#batch size\n",
        "bs = 64\n",
        "#image size\n",
        "sz = 224 \n",
        "PATH = './Mountains_Iceberg_dataset/'"
      ],
      "execution_count": 0,
      "outputs": []
    },
    {
      "cell_type": "code",
      "metadata": {
        "id": "v6vOB62j_byZ",
        "colab_type": "code",
        "colab": {
          "base_uri": "https://localhost:8080/",
          "height": 52
        },
        "outputId": "b503f716-b4bc-4fdb-fadc-73f13576429d"
      },
      "source": [
        "!ls"
      ],
      "execution_count": 5,
      "outputs": [
        {
          "output_type": "stream",
          "text": [
            "cookie\tMountains_Iceberg_dataset\t  sample_data\n",
            "gdrive\tMountains_Iceberg_dataset.tar.gz\n"
          ],
          "name": "stdout"
        }
      ]
    },
    {
      "cell_type": "code",
      "metadata": {
        "id": "DSz0JmAN3YZc",
        "colab_type": "code",
        "colab": {}
      },
      "source": [
        "classes = []\n",
        "for d in os.listdir(PATH):\n",
        "    if os.path.isdir(os.path.join(PATH, d)) and not d.startswith('.'):\n",
        "        classes.append(d) \n",
        "print (\"There are \", len(classes), \"classes:\\n\", classes)    "
      ],
      "execution_count": 0,
      "outputs": []
    },
    {
      "cell_type": "code",
      "metadata": {
        "id": "dpCMUY08Kn58",
        "colab_type": "code",
        "colab": {}
      },
      "source": [
        "for c in classes:\n",
        "    print (\"Class:\", c)\n",
        "    verify_images(os.path.join(PATH, c), delete=True);"
      ],
      "execution_count": 0,
      "outputs": []
    },
    {
      "cell_type": "code",
      "metadata": {
        "id": "8TI7xNuPNlni",
        "colab_type": "code",
        "colab": {}
      },
      "source": [
        "data  = ImageDataBunch.from_folder(PATH, ds_tfms=get_transforms(), size=sz, bs=bs, valid_pct=0.2).normalize(imagenet_stats)"
      ],
      "execution_count": 0,
      "outputs": []
    },
    {
      "cell_type": "code",
      "metadata": {
        "id": "jwkTei3_Nt9M",
        "colab_type": "code",
        "colab": {}
      },
      "source": [
        "print (\"There are\", len(data.train_ds), \"training images and\", len(data.valid_ds), \"validation images.\" )"
      ],
      "execution_count": 0,
      "outputs": []
    },
    {
      "cell_type": "markdown",
      "metadata": {
        "id": "cmnUuc8_Hipy",
        "colab_type": "text"
      },
      "source": [
        "A small dataset containing 100 images was used on a CNN pre-trained model during 4 epochs."
      ]
    },
    {
      "cell_type": "code",
      "metadata": {
        "id": "j6EP5K5KN0WU",
        "colab_type": "code",
        "colab": {}
      },
      "source": [
        "data.show_batch(rows=3, figsize=(7,8))"
      ],
      "execution_count": 0,
      "outputs": []
    },
    {
      "cell_type": "code",
      "metadata": {
        "id": "QbStz__jODB3",
        "colab_type": "code",
        "colab": {}
      },
      "source": [
        "learn = cnn_learner(data, models.resnet34, metrics=error_rate)"
      ],
      "execution_count": 0,
      "outputs": []
    },
    {
      "cell_type": "code",
      "metadata": {
        "id": "d3vmKCppOfcP",
        "colab_type": "code",
        "colab": {}
      },
      "source": [
        "learn.model"
      ],
      "execution_count": 0,
      "outputs": []
    },
    {
      "cell_type": "code",
      "metadata": {
        "id": "ToHxgW-KO545",
        "colab_type": "code",
        "colab": {
          "base_uri": "https://localhost:8080/",
          "height": 171
        },
        "outputId": "0b62e52d-bb14-4191-94c1-da67a907aef4"
      },
      "source": [
        "learn.fit_one_cycle(4)"
      ],
      "execution_count": 13,
      "outputs": [
        {
          "output_type": "display_data",
          "data": {
            "text/html": [
              "<table border=\"1\" class=\"dataframe\">\n",
              "  <thead>\n",
              "    <tr style=\"text-align: left;\">\n",
              "      <th>epoch</th>\n",
              "      <th>train_loss</th>\n",
              "      <th>valid_loss</th>\n",
              "      <th>error_rate</th>\n",
              "      <th>time</th>\n",
              "    </tr>\n",
              "  </thead>\n",
              "  <tbody>\n",
              "    <tr>\n",
              "      <td>0</td>\n",
              "      <td>1.516803</td>\n",
              "      <td>1.526250</td>\n",
              "      <td>0.450000</td>\n",
              "      <td>00:26</td>\n",
              "    </tr>\n",
              "    <tr>\n",
              "      <td>1</td>\n",
              "      <td>1.014605</td>\n",
              "      <td>0.807603</td>\n",
              "      <td>0.300000</td>\n",
              "      <td>00:23</td>\n",
              "    </tr>\n",
              "    <tr>\n",
              "      <td>2</td>\n",
              "      <td>0.769455</td>\n",
              "      <td>0.526985</td>\n",
              "      <td>0.150000</td>\n",
              "      <td>00:24</td>\n",
              "    </tr>\n",
              "    <tr>\n",
              "      <td>3</td>\n",
              "      <td>0.605125</td>\n",
              "      <td>0.378449</td>\n",
              "      <td>0.100000</td>\n",
              "      <td>00:24</td>\n",
              "    </tr>\n",
              "  </tbody>\n",
              "</table>"
            ],
            "text/plain": [
              "<IPython.core.display.HTML object>"
            ]
          },
          "metadata": {
            "tags": []
          }
        }
      ]
    },
    {
      "cell_type": "markdown",
      "metadata": {
        "id": "4Ld5tFINH6GP",
        "colab_type": "text"
      },
      "source": [
        "An **error rate** of **5%** was obtained."
      ]
    },
    {
      "cell_type": "code",
      "metadata": {
        "id": "EvwOxxTJPhFH",
        "colab_type": "code",
        "colab": {}
      },
      "source": [
        "learn.save('stage-1')"
      ],
      "execution_count": 0,
      "outputs": []
    },
    {
      "cell_type": "code",
      "metadata": {
        "id": "r6UVzrDcP1kJ",
        "colab_type": "code",
        "colab": {}
      },
      "source": [
        "interp = ClassificationInterpretation.from_learner(learn)\n",
        "\n",
        "losses,idxs = interp.top_losses()\n",
        "\n",
        "len(data.valid_ds)==len(losses)==len(idxs)"
      ],
      "execution_count": 0,
      "outputs": []
    },
    {
      "cell_type": "code",
      "metadata": {
        "id": "ck_IuoaLQxuM",
        "colab_type": "code",
        "colab": {}
      },
      "source": [
        "interp.plot_top_losses(9, figsize=(15,11))"
      ],
      "execution_count": 0,
      "outputs": []
    },
    {
      "cell_type": "code",
      "metadata": {
        "id": "MvsE6qfPQ2Uy",
        "colab_type": "code",
        "colab": {
          "base_uri": "https://localhost:8080/",
          "height": 743
        },
        "outputId": "016e42ee-f96c-41d9-a094-31cc7b591c2c"
      },
      "source": [
        "interp.plot_confusion_matrix(figsize=(12,12), dpi=60)"
      ],
      "execution_count": 18,
      "outputs": [
        {
          "output_type": "display_data",
          "data": {
            "image/png": "[encoded data removed]",
            "text/plain": [
              "<Figure size 720x720 with 1 Axes>"
            ]
          },
          "metadata": {
            "tags": []
          }
        }
      ]
    },
    {
      "cell_type": "markdown",
      "metadata": {
        "id": "c9uD5GrkVsn2",
        "colab_type": "text"
      },
      "source": [
        "The confusion matrix shows that:\n",
        "\n",
        "\n",
        "*   22 icebergs and 16 mountains are classified correctly,\n",
        "*   1 example from each class is missclassified.\n",
        "\n"
      ]
    },
    {
      "cell_type": "code",
      "metadata": {
        "id": "MO2QUfuaRfOl",
        "colab_type": "code",
        "colab": {}
      },
      "source": [
        "interp.most_confused(min_val=2)"
      ],
      "execution_count": 0,
      "outputs": []
    },
    {
      "cell_type": "code",
      "metadata": {
        "id": "YYQf-yPuRn_J",
        "colab_type": "code",
        "colab": {}
      },
      "source": [
        "learn.unfreeze()"
      ],
      "execution_count": 0,
      "outputs": []
    },
    {
      "cell_type": "code",
      "metadata": {
        "id": "h0-YB4zdRx1D",
        "colab_type": "code",
        "colab": {}
      },
      "source": [
        "learn.fit_one_cycle(1)"
      ],
      "execution_count": 0,
      "outputs": []
    },
    {
      "cell_type": "markdown",
      "metadata": {
        "id": "3gHz0hPqWqlI",
        "colab_type": "text"
      },
      "source": [
        "The **error rate** decreased to **2.5%**.\n"
      ]
    },
    {
      "cell_type": "code",
      "metadata": {
        "id": "sZkbCCYYSOw6",
        "colab_type": "code",
        "colab": {}
      },
      "source": [
        "learn.load('stage-1');"
      ],
      "execution_count": 0,
      "outputs": []
    },
    {
      "cell_type": "code",
      "metadata": {
        "id": "AnsTMUFUSVl6",
        "colab_type": "code",
        "colab": {}
      },
      "source": [
        "learn.lr_find()"
      ],
      "execution_count": 0,
      "outputs": []
    },
    {
      "cell_type": "code",
      "metadata": {
        "id": "3ASaL3JISYRv",
        "colab_type": "code",
        "colab": {
          "base_uri": "https://localhost:8080/",
          "height": 283
        },
        "outputId": "a6680b9c-d118-4698-e81a-794d63a31c7d"
      },
      "source": [
        "learn.recorder.plot()"
      ],
      "execution_count": 24,
      "outputs": [
        {
          "output_type": "display_data",
          "data": {
            "image/png": "[encoded data removed]",
            "text/plain": [
              "<Figure size 432x288 with 1 Axes>"
            ]
          },
          "metadata": {
            "tags": []
          }
        }
      ]
    },
    {
      "cell_type": "code",
      "metadata": {
        "id": "dNWBwMLeSbw4",
        "colab_type": "code",
        "colab": {}
      },
      "source": [
        "learn.unfreeze()\n",
        "learn.fit_one_cycle(2, max_lr=slice(1e-6,1e-4))"
      ],
      "execution_count": 0,
      "outputs": []
    }
  ]
}